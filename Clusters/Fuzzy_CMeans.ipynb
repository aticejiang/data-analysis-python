{
 "cells": [
  {
   "cell_type": "code",
   "execution_count": 1,
   "id": "decreased-gibson",
   "metadata": {},
   "outputs": [],
   "source": [
    "import numpy as np\n",
    "import pandas as pd\n",
    "from sklearn import datasets\n",
    "iris = datasets.load_iris()\n",
    "X = iris.data[:]\n",
    "Y = iris.target"
   ]
  },
  {
   "cell_type": "code",
   "execution_count": 2,
   "id": "signed-assets",
   "metadata": {},
   "outputs": [],
   "source": [
    "class FuzzyCMeans(object):\n",
    "    def __init__(self, data, n_class):\n",
    "        self.data = data\n",
    "        self.n_class = n_class\n",
    "        self.U = self.init_U()\n",
    "        self.centroid = np.zeros((n_class, data.shape[1]))\n",
    "        self.EPS = 1e-5\n",
    "    \n",
    "    #初始化隶属度矩阵U\n",
    "    def init_U(self):\n",
    "        U = np.random.rand(self.data.shape[0], self.n_class)  # 先生成随机矩阵\n",
    "        sumU = 1 / np.sum(U, axis=1)   # 求每行的和\n",
    "        U = np.multiply(U.T, sumU)   # 使隶属度矩阵每一行和为1\n",
    "        return U.T\n",
    "    \n",
    "    # 计算样本和簇中心的距离，这里使用欧氏距离\n",
    "    def distance(self, centroid):\n",
    "        return np.sqrt(np.sum((self.data - centroid)**2, axis=1))\n",
    "    \n",
    "    #计算隶属度矩阵U\n",
    "    def computeU(self, data, m=2):\n",
    "        sampleNumber = data.shape[0]  # 样本数\n",
    "        U = np.zeros((sampleNumber, self.n_class))\n",
    "        # 更新隶属度矩阵\n",
    "        for i in range(self.n_class):\n",
    "            U[:, i] += (self.distance(self.centroid[i])) ** (-2 / (m - 1))\n",
    "        sumU = 1 / np.sum(U, axis = 1)\n",
    "        U = np.multiply(U.T, sumU).T\n",
    "        return U\n",
    "    \n",
    "    #调整聚类中心\n",
    "    def adjustCentroid(self, m=2):\n",
    "        for i in range(self.n_class):\n",
    "            self.centroid[i] = np.dot(self.U[:, i]**m, self.data)/ np.sum(self.U[:, i]**m)\n",
    "    \n",
    "    #Fuzzy CMeans聚类\n",
    "    def cluster(self):\n",
    "        while True:\n",
    "            U_old = self.U\n",
    "            self.adjustCentroid()\n",
    "            self.U = self.computeU(self.data)\n",
    "            if np.max(np.abs(self.U - U_old)) < self.EPS:\n",
    "                return \n",
    "    \n",
    "    #预测\n",
    "    def predict(self, test_data):\n",
    "        U = self.computeU(test_data)\n",
    "        labels = np.argmax(U, axis=1)\n",
    "        return labels"
   ]
  },
  {
   "cell_type": "code",
   "execution_count": 3,
   "id": "compound-turtle",
   "metadata": {},
   "outputs": [],
   "source": [
    "cmeans = FuzzyCMeans(X, 3)"
   ]
  },
  {
   "cell_type": "code",
   "execution_count": 4,
   "id": "adapted-sussex",
   "metadata": {},
   "outputs": [
    {
     "data": {
      "text/plain": [
       "array([[6.77500367, 3.05238007, 5.64677237, 2.05354303],\n",
       "       [5.88892612, 2.76106711, 4.36394252, 1.39731034],\n",
       "       [5.00396595, 3.41408917, 1.48281503, 0.25354609]])"
      ]
     },
     "execution_count": 4,
     "metadata": {},
     "output_type": "execute_result"
    }
   ],
   "source": [
    "cmeans.cluster()\n",
    "cmeans.centroid"
   ]
  },
  {
   "cell_type": "code",
   "execution_count": 5,
   "id": "exclusive-signal",
   "metadata": {},
   "outputs": [],
   "source": [
    "labels = cmeans.predict(X)"
   ]
  },
  {
   "cell_type": "code",
   "execution_count": 6,
   "id": "certain-samuel",
   "metadata": {},
   "outputs": [
    {
     "data": {
      "image/png": "[encoded data removed]",
      "text/plain": [
       "<Figure size 432x288 with 1 Axes>"
      ]
     },
     "metadata": {
      "needs_background": "light"
     },
     "output_type": "display_data"
    }
   ],
   "source": [
    "import matplotlib.pyplot as plt\n",
    "#绘制k-means结果\n",
    "x0 = X[labels == 0]\n",
    "x1 = X[labels == 1]\n",
    "x2 = X[labels == 2]\n",
    "plt.scatter(x0[:, 0], x0[:, 1], c = \"red\", marker='o', label='label0')\n",
    "plt.scatter(x1[:, 0], x1[:, 1], c = \"green\", marker='*', label='label1')\n",
    "plt.scatter(x2[:, 0], x2[:, 1], c = \"blue\", marker='+', label='label2')\n",
    "plt.scatter(cmeans.centroid[:,0], cmeans.centroid[:,1], c = \"black\", marker='^', label='centroid')\n",
    "plt.xlabel('petal length')\n",
    "plt.ylabel('petal width')\n",
    "plt.legend(loc='best')\n",
    "plt.show()"
   ]
  },
  {
   "cell_type": "code",
   "execution_count": 7,
   "id": "particular-phone",
   "metadata": {},
   "outputs": [
    {
     "data": {
      "image/png": "[encoded data removed]",
      "text/plain": [
       "<Figure size 432x288 with 1 Axes>"
      ]
     },
     "metadata": {
      "needs_background": "light"
     },
     "output_type": "display_data"
    }
   ],
   "source": [
    "from sklearn.decomposition import PCA\n",
    "pca = PCA(n_components=2) # n_components 生成特征的维度，这里我们生成2维\n",
    "pca.fit(X) #pca训练\n",
    "#训练后将数据降维至2维\n",
    "X_pca = pca.transform(X)\n",
    "centroid_pca = pca.transform(cmeans.centroid)\n",
    "#绘制k-means结果\n",
    "x0 = X_pca[labels == 0]\n",
    "x1 = X_pca[labels == 1]\n",
    "x2 = X_pca[labels == 2]\n",
    "plt.scatter(x0[:, 0], x0[:, 1], c = \"red\", marker='o', label='label0')\n",
    "plt.scatter(x1[:, 0], x1[:, 1], c = \"green\", marker='*', label='label1')\n",
    "plt.scatter(x2[:, 0], x2[:, 1], c = \"blue\", marker='+', label='label2')\n",
    "plt.scatter(centroid_pca[:,0], centroid_pca[:,1], c = \"black\", marker='^', label='centroid')\n",
    "plt.xlabel('petal length')\n",
    "plt.ylabel('petal width')\n",
    "plt.legend(loc='best')\n",
    "plt.show()"
   ]
  },
  {
   "cell_type": "code",
   "execution_count": null,
   "id": "corresponding-daniel",
   "metadata": {},
   "outputs": [],
   "source": []
  }
 ],
 "metadata": {
  "kernelspec": {
   "display_name": "Python 3",
   "language": "python",
   "name": "python3"
  },
  "language_info": {
   "codemirror_mode": {
    "name": "ipython",
    "version": 3
   },
   "file_extension": ".py",
   "mimetype": "text/x-python",
   "name": "python",
   "nbconvert_exporter": "python",
   "pygments_lexer": "ipython3",
   "version": "3.6.12"
  }
 },
 "nbformat": 4,
 "nbformat_minor": 5
}
