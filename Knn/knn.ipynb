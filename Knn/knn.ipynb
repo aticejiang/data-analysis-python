{
 "cells": [
  {
   "cell_type": "code",
   "execution_count": 1,
   "id": "dominant-recycling",
   "metadata": {},
   "outputs": [],
   "source": [
    "import numpy as np\n",
    "import operator\n",
    "\n",
    "movie_data = {\"宝贝当家\": [45, 2, 9, \"喜剧片\"],\n",
    "              \"美人鱼\": [21, 17, 5, \"喜剧片\"],\n",
    "              \"澳门风云3\": [54, 9, 11, \"喜剧片\"],\n",
    "              \"功夫熊猫3\": [39, 0, 31, \"喜剧片\"],\n",
    "              \"谍影重重\": [5, 2, 57, \"动作片\"],\n",
    "              \"叶问3\": [3, 2, 65, \"动作片\"],\n",
    "              \"伦敦陷落\": [2, 3, 55, \"动作片\"],\n",
    "              \"我的特工爷爷\": [6, 4, 21, \"动作片\"],\n",
    "              \"奔爱\": [7, 46, 4, \"爱情片\"],\n",
    "              \"夜孔雀\": [9, 39, 8, \"爱情片\"],\n",
    "              \"代理情人\": [9, 38, 2, \"爱情片\"],\n",
    "              \"新步步惊心\": [8, 34, 17, \"爱情片\"]}"
   ]
  },
  {
   "cell_type": "code",
   "execution_count": 2,
   "id": "choice-mattress",
   "metadata": {},
   "outputs": [
    {
     "data": {
      "text/plain": [
       "(array([[45.,  2.,  9.],\n",
       "        [21., 17.,  5.],\n",
       "        [54.,  9., 11.],\n",
       "        [39.,  0., 31.],\n",
       "        [ 5.,  2., 57.],\n",
       "        [ 3.,  2., 65.],\n",
       "        [ 2.,  3., 55.],\n",
       "        [ 6.,  4., 21.],\n",
       "        [ 7., 46.,  4.],\n",
       "        [ 9., 39.,  8.],\n",
       "        [ 9., 38.,  2.],\n",
       "        [ 8., 34., 17.]]),\n",
       " array([[1],\n",
       "        [1],\n",
       "        [1],\n",
       "        [1],\n",
       "        [2],\n",
       "        [2],\n",
       "        [2],\n",
       "        [2],\n",
       "        [3],\n",
       "        [3],\n",
       "        [3],\n",
       "        [3]], dtype=int64))"
      ]
     },
     "execution_count": 2,
     "metadata": {},
     "output_type": "execute_result"
    }
   ],
   "source": [
    "def createDataSet():\n",
    "    '''\n",
    "        准备数据集\n",
    "        Return\n",
    "            data ： 数据\n",
    "            labels ： 标签\n",
    "    '''\n",
    "    data = np.zeros((len(movie_data),3))\n",
    "    labels = np.zeros((len(movie_data),1), dtype = 'int64')\n",
    "    i = 0\n",
    "    for key, value in movie_data.items():\n",
    "        data[i] = value[:-1]\n",
    "        if value[-1] == '喜剧片':\n",
    "            c = 1\n",
    "        elif value[-1] == '动作片':\n",
    "            c = 2\n",
    "        else:\n",
    "            c = 3\n",
    "        labels[i] = c\n",
    "        i = i+1\n",
    "    return data, labels\n",
    "\n",
    "data, labels = createDataSet()\n",
    "data, labels"
   ]
  },
  {
   "cell_type": "code",
   "execution_count": 3,
   "id": "governmental-moisture",
   "metadata": {},
   "outputs": [
    {
     "data": {
      "text/plain": [
       "array([23.43074903, 18.54723699, 32.14031736, 21.47091055, 43.87482194,\n",
       "       52.0096145 , 43.41658669, 17.49285568, 47.68647607, 39.66106403,\n",
       "       40.57092555, 34.43835072])"
      ]
     },
     "execution_count": 3,
     "metadata": {},
     "output_type": "execute_result"
    }
   ],
   "source": [
    "x = [23, 3, 17]\n",
    "dist = np.sum((data - x) **2, axis = 1) ** 0.5  #2范数\n",
    "dist"
   ]
  },
  {
   "cell_type": "code",
   "execution_count": 4,
   "id": "suffering-advocate",
   "metadata": {},
   "outputs": [
    {
     "data": {
      "text/plain": [
       "array([[2],\n",
       "       [1],\n",
       "       [1],\n",
       "       [1],\n",
       "       [1]], dtype=int64)"
      ]
     },
     "execution_count": 4,
     "metadata": {},
     "output_type": "execute_result"
    }
   ],
   "source": [
    "k_labels = np.array([labels[index] for index in dist.argsort()[0 : 5]])  #人为设定取前5个距离最小值\n",
    "k_labels"
   ]
  },
  {
   "cell_type": "code",
   "execution_count": 8,
   "id": "incomplete-navigation",
   "metadata": {},
   "outputs": [
    {
     "data": {
      "text/plain": [
       "1"
      ]
     },
     "execution_count": 8,
     "metadata": {},
     "output_type": "execute_result"
    }
   ],
   "source": [
    "k_labels = np.squeeze(k_labels, axis=1)\n",
    "counter = {}\n",
    "for i in k_labels:\n",
    "    if counter.get(i) == None:\n",
    "        counter[i] = 1\n",
    "    else:\n",
    "        counter[i] = counter.get(i) + 1\n",
    "result = sorted(counter.items(), key=operator.itemgetter(1), reverse=True)\n",
    "#key=operator.itemgetter(1)根据字典的value进行排序\n",
    "#key=operator.itemgetter(0)根据字典的key进行排序\n",
    "#reverse降序排序字典\n",
    "result[0][0]\n"
   ]
  },
  {
   "cell_type": "code",
   "execution_count": 9,
   "id": "raised-african",
   "metadata": {},
   "outputs": [],
   "source": [
    "def knn(x, data, labels, k):\n",
    "    '''\n",
    "        实现knn分类算法\n",
    "        Arguments\n",
    "            x : 输入数据\n",
    "            data : 样本数据\n",
    "            labels ： 样本标签\n",
    "            k : 算法中k的取值\n",
    "        Return\n",
    "            result : 目标的种类\n",
    "    '''\n",
    "    dist = np.sum((data - x) **2, axis = 1) ** 0.5\n",
    "    k_labels = np.array([labels[index] for index in dist.argsort()[0:k]])\n",
    "    k_labels = np.squeeze(k_labels, axis=1)\n",
    "    counter = {}\n",
    "    for i in k_labels:\n",
    "        if counter.get(i) == None:\n",
    "            counter[i] = 1\n",
    "        else:\n",
    "            counter[i] = counter.get(i) + 1\n",
    "    result = sorted(counter.items(), key=operator.itemgetter(1), reverse=True)[0][0]\n",
    "    return result\n"
   ]
  },
  {
   "cell_type": "code",
   "execution_count": 10,
   "id": "knowing-compatibility",
   "metadata": {},
   "outputs": [],
   "source": [
    "def print_result(result):\n",
    "    if result == 1:\n",
    "        print('喜剧片')\n",
    "    if result == 2:\n",
    "        print('动作片')\n",
    "    if result == 3:\n",
    "        print('爱情片')"
   ]
  },
  {
   "cell_type": "code",
   "execution_count": 15,
   "id": "everyday-democrat",
   "metadata": {},
   "outputs": [
    {
     "name": "stdout",
     "output_type": "stream",
     "text": [
      "喜剧片\n"
     ]
    }
   ],
   "source": [
    "if __name__ == '__main__':\n",
    "\n",
    "    data, labels = createDataSet() #创建数据集\n",
    "    x = [23, 3, 17] #测试集\n",
    "    result = knn(x, data, labels, 5) #kNN分类\n",
    "    print_result(result) #打印分类结果"
   ]
  },
  {
   "cell_type": "code",
   "execution_count": null,
   "id": "seventh-haven",
   "metadata": {},
   "outputs": [],
   "source": []
  }
 ],
 "metadata": {
  "kernelspec": {
   "display_name": "Python 3",
   "language": "python",
   "name": "python3"
  },
  "language_info": {
   "codemirror_mode": {
    "name": "ipython",
    "version": 3
   },
   "file_extension": ".py",
   "mimetype": "text/x-python",
   "name": "python",
   "nbconvert_exporter": "python",
   "pygments_lexer": "ipython3",
   "version": "3.6.12"
  }
 },
 "nbformat": 4,
 "nbformat_minor": 5
}
