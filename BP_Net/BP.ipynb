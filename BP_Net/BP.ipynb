{
 "cells": [
  {
   "cell_type": "code",
   "execution_count": 1,
   "id": "pleasant-width",
   "metadata": {},
   "outputs": [],
   "source": [
    "import numpy as np"
   ]
  },
  {
   "cell_type": "markdown",
   "id": "ordinary-victorian",
   "metadata": {},
   "source": [
    "## 定义了一个BP神经网络类：BP_Net"
   ]
  },
  {
   "cell_type": "code",
   "execution_count": 2,
   "id": "favorite-lunch",
   "metadata": {},
   "outputs": [],
   "source": [
    "class BP_Net(object):\n",
    "    '''\n",
    "        BP神经网络类\n",
    "    '''\n",
    "    #初始函数\n",
    "    def __init__(self, input_nodes, hidden_nodes, output_nodes, lr):\n",
    "        self.input_nodes = input_nodes\n",
    "        self.hidden_nodes = hidden_nodes\n",
    "        self.output_nodes = output_nodes\n",
    "        #权重初始化 Xavier的正态分布方法\n",
    "        self.W_ih = np.random.normal(loc=0.0, scale=np.sqrt(2/(input_nodes+hidden_nodes)), size=(hidden_nodes, input_nodes))\n",
    "        self.b_ih = np.random.normal(loc=0.0, scale=np.sqrt(2/(input_nodes+hidden_nodes)), size=(hidden_nodes, 1))\n",
    "        self.W_ho = np.random.normal(loc=0.0, scale=np.sqrt(2/(output_nodes+hidden_nodes)), size=(output_nodes, hidden_nodes))\n",
    "        self.b_ho = np.random.normal(loc=0.0, scale=np.sqrt(2/(input_nodes+hidden_nodes)), size=(output_nodes, 1))\n",
    "        #学习率\n",
    "        self.lr = lr\n",
    "    \n",
    "    #激活函数\n",
    "    def sigmoid(self, x):\n",
    "        return 1/(1+np.exp(-x))\n",
    "    \n",
    "    #前向传播\n",
    "    def forword_p(self, input_one):\n",
    "        inputs = self.convert2column(input_one)\n",
    "        #前向传播\n",
    "        hidden_outputs = self.sigmoid(np.dot(self.W_ih, inputs))\n",
    "        final_outputs = self.sigmoid(np.dot(self.W_ho, hidden_outputs))\n",
    "        return hidden_outputs, final_outputs\n",
    "    \n",
    "    #预测\n",
    "    def predict(self, input_data):\n",
    "        inputs = np.array(input_data)\n",
    "        prediction = []\n",
    "        for i in range(inputs.shape[0]):\n",
    "            #转为列向量\n",
    "            inputs_one = self.convert2column(inputs[i,:])\n",
    "            #前向传播\n",
    "            _, final_outputs = self.forword_p(inputs_one)\n",
    "            final_outputs = self.convert2column(final_outputs)\n",
    "            prediction.append(final_outputs)\n",
    "        return prediction\n",
    "    \n",
    "    #准确率\n",
    "    def score(self, input_data, gt_data):\n",
    "        prediction = self.predict(input_data)\n",
    "        for j in range(len(prediction)):\n",
    "            prediction[j] = np.argmax(prediction[j])\n",
    "        count = 0\n",
    "        for i in range(gt_data.shape[0]):\n",
    "            if prediction[i] == gt_data[i]:\n",
    "                count += 1\n",
    "        return count/gt_data.shape[0]\n",
    "    \n",
    "    #loss函数\n",
    "    def loss_func(self, input_data, gt_data):\n",
    "        inputs = np.array(input_data)\n",
    "        gt = np.array(gt_data)\n",
    "        loss = 0\n",
    "        prediction = self.predict(input_data)\n",
    "        for i in range(gt_data.shape[0]):\n",
    "            gt_one = self.convert2column(gt[i,:])\n",
    "            loss += np.sum(0.5* (prediction[i]- gt_one)**2)\n",
    "        return loss/gt_data.shape[0]\n",
    "    \n",
    "    #把向量转为列向量\n",
    "    def convert2column(self, x):\n",
    "        c = np.array(x, ndmin=2)\n",
    "        if c.shape[0] == 1:\n",
    "            c = c.T\n",
    "        return c\n",
    "    \n",
    "    #BP\n",
    "    def b_p(self, input_data, gt_data):\n",
    "        '''\n",
    "        Parameters:\n",
    "            input_data: 样本特征，按行保存的数据\n",
    "            gt_data: 样本类别，按行保存\n",
    "        Return:\n",
    "            \n",
    "        '''\n",
    "        inputs = np.array(input_data)\n",
    "        gt = np.array(gt_data)\n",
    "        delta_W_ho = []\n",
    "        delta_b_ho = []\n",
    "        delta_W_ih = []\n",
    "        delta_b_ih = []\n",
    "        for i in range(inputs.shape[0]):\n",
    "            #转为列向量\n",
    "            inputs_one = self.convert2column(inputs[i,:])\n",
    "            gt_one = self.convert2column(gt[i,:])\n",
    "            #前向传播\n",
    "            hidden_outputs, final_outputs = self.forword_p(inputs_one)\n",
    "            hidden_outputs = self.convert2column(hidden_outputs)\n",
    "            final_outputs = self.convert2column(final_outputs)\n",
    "            #反向传播梯度\n",
    "            final_errors = final_outputs - gt_one   # 1/2(y-a)^2 关于a的导数\n",
    "            delta_f = final_errors* final_outputs* (1-final_outputs)\n",
    "            delta_h = np.dot(self.W_ho.T, delta_f) * hidden_outputs* (1-hidden_outputs)\n",
    "\n",
    "            delta_W_ho.append(np.dot(delta_f, hidden_outputs.T))\n",
    "            delta_b_ho.append(delta_f)\n",
    "            delta_W_ih.append(np.dot(delta_h, inputs_one.T))\n",
    "            delta_b_ih.append(delta_h)\n",
    "        #求平均\n",
    "        delta_W_ho_result = delta_W_ho[0]\n",
    "        delta_b_ho_result = delta_b_ho[0]\n",
    "        delta_W_ih_result = delta_W_ih[0]\n",
    "        delta_b_ih_result = delta_b_ih[0]\n",
    "        for j in range(1, len(delta_W_ho)):\n",
    "            delta_W_ho_result += delta_W_ho[j]\n",
    "            delta_b_ho_result += delta_b_ho[j]\n",
    "            delta_W_ih_result += delta_W_ih[j]\n",
    "            delta_b_ih_result += delta_b_ih[j]\n",
    "        delta_W_ho_result /= len(delta_W_ho)\n",
    "        delta_b_ho_result /= len(delta_W_ho)\n",
    "        delta_W_ih_result /= len(delta_W_ho)\n",
    "        delta_b_ih_result /= len(delta_W_ho)\n",
    "        #权值更新\n",
    "        self.W_ho += self.lr* -1* delta_W_ho_result\n",
    "        self.b_ho += self.lr* -1* delta_b_ho_result\n",
    "        self.W_ih += self.lr* -1* delta_W_ih_result\n",
    "        self.b_ih += self.lr* -1* delta_b_ih_result\n",
    "    \n",
    "    #训练\n",
    "    def train(self, input_data, gt_data, iteration):\n",
    "        for i in range(iteration):\n",
    "            self.b_p(input_data, gt_data)\n",
    "            if self.loss_func(input_data, gt_data) < 1e-5:\n",
    "                break\n",
    "        "
   ]
  },
  {
   "cell_type": "markdown",
   "id": "handy-future",
   "metadata": {},
   "source": [
    "## 导入数据集"
   ]
  },
  {
   "cell_type": "code",
   "execution_count": 3,
   "id": "dental-arabic",
   "metadata": {},
   "outputs": [],
   "source": [
    "from sklearn import datasets\n",
    "\n",
    "digits = datasets.load_digits()\n",
    "mnist_data = digits.data\n",
    "mnist_label = digits.target"
   ]
  },
  {
   "cell_type": "code",
   "execution_count": 4,
   "id": "frequent-voluntary",
   "metadata": {},
   "outputs": [],
   "source": [
    "from sklearn.model_selection import train_test_split\n",
    "train_data, test_data, train_label, test_label = train_test_split(mnist_data, mnist_label, test_size=0.5)"
   ]
  },
  {
   "cell_type": "code",
   "execution_count": 5,
   "id": "collaborative-given",
   "metadata": {},
   "outputs": [],
   "source": [
    "#使用onehot编码类别\n",
    "from sklearn.preprocessing import OneHotEncoder\n",
    "enc = OneHotEncoder()\n",
    "train_onehot = enc.fit_transform(np.array(train_label, ndmin=2).T)\n",
    "train_onehot = train_onehot.toarray()\n",
    "\n",
    "test_onehot = enc.transform(np.array(test_label, ndmin=2).T)\n",
    "test_onehot = test_onehot.toarray()"
   ]
  },
  {
   "cell_type": "markdown",
   "id": "coastal-facial",
   "metadata": {},
   "source": [
    "## 创建NP_Net对象，训练和测试"
   ]
  },
  {
   "cell_type": "code",
   "execution_count": 6,
   "id": "furnished-somalia",
   "metadata": {},
   "outputs": [],
   "source": [
    "bp1 = BP_Net(train_data.shape[1],20, train_onehot.shape[1], lr=1)"
   ]
  },
  {
   "cell_type": "code",
   "execution_count": 7,
   "id": "amended-alarm",
   "metadata": {},
   "outputs": [
    {
     "name": "stdout",
     "output_type": "stream",
     "text": [
      "训练前训练集的损失：1.5046376892463402\n",
      "训练前训练集的准确率： 0.0801781737193764\n",
      "训练前测试集的损失：1.5127138132471667\n",
      "训练前测试集的准确率： 0.08342602892102335\n",
      "--------------------------------------------------------------\n",
      "训练后训练集的损失：0.18510479107096273\n",
      "训练后训练集的准确率： 0.8596881959910914\n",
      "训练后测试集的损失：0.20959857747424318\n",
      "训练后测试集的准确率： 0.8053392658509455\n"
     ]
    }
   ],
   "source": [
    "print('训练前训练集的损失：{}'.format(bp1.loss_func(train_data, train_onehot)))\n",
    "print('训练前训练集的准确率： {}'.format(bp1.score(train_data, train_label)))\n",
    "print('训练前测试集的损失：{}'.format(bp1.loss_func(test_data, test_onehot)))\n",
    "print('训练前测试集的准确率： {}'.format(bp1.score(test_data, test_label)))\n",
    "#训练\n",
    "bp1.train(train_data, train_onehot, 200)\n",
    "print('--------------------------------------------------------------')\n",
    "print('训练后训练集的损失：{}'.format(bp1.loss_func(train_data, train_onehot)))\n",
    "print('训练后训练集的准确率： {}'.format(bp1.score(train_data, train_label)))\n",
    "print('训练后测试集的损失：{}'.format(bp1.loss_func(test_data, test_onehot)))\n",
    "print('训练后测试集的准确率： {}'.format(bp1.score(test_data, test_label)))"
   ]
  },
  {
   "cell_type": "markdown",
   "id": "broadband-photography",
   "metadata": {},
   "source": [
    "### 再训练更多次数"
   ]
  },
  {
   "cell_type": "code",
   "execution_count": 8,
   "id": "verbal-celebration",
   "metadata": {},
   "outputs": [
    {
     "name": "stdout",
     "output_type": "stream",
     "text": [
      "训练后训练集的损失：0.10370692966757962\n",
      "训练后训练集的准确率： 0.955456570155902\n",
      "训练后测试集的损失：0.130545361838141\n",
      "训练后测试集的准确率： 0.917686318131257\n"
     ]
    }
   ],
   "source": [
    "bp1.train(train_data, train_onehot, 200)\n",
    "print('训练后训练集的损失：{}'.format(bp1.loss_func(train_data, train_onehot)))\n",
    "print('训练后训练集的准确率： {}'.format(bp1.score(train_data, train_label)))\n",
    "print('训练后测试集的损失：{}'.format(bp1.loss_func(test_data, test_onehot)))\n",
    "print('训练后测试集的准确率： {}'.format(bp1.score(test_data, test_label)))"
   ]
  },
  {
   "cell_type": "code",
   "execution_count": 16,
   "id": "perfect-period",
   "metadata": {},
   "outputs": [
    {
     "name": "stdout",
     "output_type": "stream",
     "text": [
      "训练后训练集的损失：0.424612677747868\n",
      "训练后训练集的准确率： 0.321826280623608\n",
      "训练后测试集的损失：0.42548376755647577\n",
      "训练后测试集的准确率： 0.3170189098998888\n",
      "----------------------------------------------------\n",
      "训练后训练集的损失：0.04481131563556808\n",
      "训练后训练集的准确率： 0.9832962138084632\n",
      "训练后测试集的损失：0.066736352205287\n",
      "训练后测试集的准确率： 0.9588431590656284\n",
      "----------------------------------------------------\n",
      "训练后训练集的损失：0.024120628742452195\n",
      "训练后训练集的准确率： 0.9899777282850779\n",
      "训练后测试集的损失：0.05170605697230012\n",
      "训练后测试集的准确率： 0.9588431590656284\n",
      "----------------------------------------------------\n",
      "训练后训练集的损失：0.01735037367382791\n",
      "训练后训练集的准确率： 0.9899777282850779\n",
      "训练后测试集的损失：0.04764590054982109\n",
      "训练后测试集的准确率： 0.9566184649610678\n",
      "----------------------------------------------------\n",
      "训练后训练集的损失：0.014110268723153654\n",
      "训练后训练集的准确率： 0.9899777282850779\n",
      "训练后测试集的损失：0.04573695203726829\n",
      "训练后测试集的准确率： 0.9566184649610678\n",
      "----------------------------------------------------\n",
      "训练后训练集的损失：0.01194395879932072\n",
      "训练后训练集的准确率： 0.9922048997772829\n",
      "训练后测试集的损失：0.04438354261717707\n",
      "训练后测试集的准确率： 0.9577308120133482\n",
      "----------------------------------------------------\n",
      "训练后训练集的损失：0.010325342098658019\n",
      "训练后训练集的准确率： 0.9933184855233853\n",
      "训练后测试集的损失：0.043591751538163935\n",
      "训练后测试集的准确率： 0.9577308120133482\n",
      "----------------------------------------------------\n",
      "训练后训练集的损失：0.009308431228104016\n",
      "训练后训练集的准确率： 0.9933184855233853\n",
      "训练后测试集的损失：0.04319644163061252\n",
      "训练后测试集的准确率： 0.9577308120133482\n",
      "----------------------------------------------------\n",
      "训练后训练集的损失：0.00856679163367457\n",
      "训练后训练集的准确率： 0.9933184855233853\n",
      "训练后测试集的损失：0.043060766658201875\n",
      "训练后测试集的准确率： 0.9577308120133482\n",
      "----------------------------------------------------\n",
      "训练后训练集的损失：0.007975916781879018\n",
      "训练后训练集的准确率： 0.9933184855233853\n",
      "训练后测试集的损失：0.04313993491655663\n",
      "训练后测试集的准确率： 0.9555061179087876\n",
      "----------------------------------------------------\n"
     ]
    }
   ],
   "source": [
    "bp2 = BP_Net(train_data.shape[1],20, train_onehot.shape[1], lr=1)\n",
    "train_loss = []\n",
    "train_acc = []\n",
    "test_loss = []\n",
    "test_acc = []\n",
    "for i in range(250):\n",
    "    bp2.train(train_data, train_onehot, 20)\n",
    "    train_loss_once = bp2.loss_func(train_data, train_onehot)\n",
    "    train_acc_once = bp2.score(train_data, train_label)\n",
    "    test_loss_once = bp2.loss_func(test_data, test_onehot)\n",
    "    test_acc_once = bp2.score(test_data, test_label)\n",
    "    train_loss.append(train_loss_once)\n",
    "    train_acc.append(train_acc_once)\n",
    "    test_loss.append(test_loss_once)\n",
    "    test_acc.append(test_acc_once)\n",
    "    if i % 25 == 0:\n",
    "        print('训练后训练集的损失：{}'.format(train_loss_once))\n",
    "        print('训练后训练集的准确率： {}'.format(train_acc_once))\n",
    "        print('训练后测试集的损失：{}'.format(test_loss_once))\n",
    "        print('训练后测试集的准确率： {}'.format(test_acc_once))\n",
    "        print('----------------------------------------------------')"
   ]
  },
  {
   "cell_type": "markdown",
   "id": "sorted-integration",
   "metadata": {},
   "source": [
    "### 损失和准确率变化趋势"
   ]
  },
  {
   "cell_type": "code",
   "execution_count": 17,
   "id": "younger-wireless",
   "metadata": {},
   "outputs": [
    {
     "data": {
      "image/png": "[encoded data removed]",
      "text/plain": [
       "<Figure size 432x288 with 1 Axes>"
      ]
     },
     "metadata": {
      "needs_background": "light"
     },
     "output_type": "display_data"
    }
   ],
   "source": [
    "import matplotlib.pyplot as plt\n",
    "plt.figure()\n",
    "plt.plot(train_loss, label='train loss')\n",
    "plt.plot(test_loss, label='test loss')\n",
    "plt.plot(train_acc, label='train acc')\n",
    "plt.plot(test_acc, label='test acc')\n",
    "plt.legend(loc='best')\n",
    "plt.show()"
   ]
  },
  {
   "cell_type": "code",
   "execution_count": null,
   "id": "contrary-license",
   "metadata": {},
   "outputs": [],
   "source": []
  }
 ],
 "metadata": {
  "kernelspec": {
   "display_name": "Python 3",
   "language": "python",
   "name": "python3"
  },
  "language_info": {
   "codemirror_mode": {
    "name": "ipython",
    "version": 3
   },
   "file_extension": ".py",
   "mimetype": "text/x-python",
   "name": "python",
   "nbconvert_exporter": "python",
   "pygments_lexer": "ipython3",
   "version": "3.6.12"
  }
 },
 "nbformat": 4,
 "nbformat_minor": 5
}
