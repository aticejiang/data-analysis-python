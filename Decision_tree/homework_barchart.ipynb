{
 "cells": [
  {
   "cell_type": "code",
   "execution_count": 44,
   "metadata": {},
   "outputs": [
    {
     "name": "stdout",
     "output_type": "stream",
     "text": [
      "    age  prescript  astigmatic  tearRate   category\n",
      "0     2          1           0         1  no lenses\n",
      "1     2          1           0         0       soft\n",
      "2     2          1           1         1  no lenses\n",
      "3     2          1           1         0       hard\n",
      "4     2          0           0         1  no lenses\n",
      "5     2          0           0         0       soft\n",
      "6     2          0           1         1  no lenses\n",
      "7     2          0           1         0       hard\n",
      "8     0          1           0         1  no lenses\n",
      "9     0          1           0         0       soft\n",
      "10    0          1           1         1  no lenses\n",
      "11    0          1           1         0       hard\n",
      "12    0          0           0         1  no lenses\n",
      "13    0          0           0         0       soft\n",
      "14    0          0           1         1  no lenses\n",
      "15    0          0           1         0  no lenses\n",
      "16    1          1           0         1  no lenses\n",
      "17    1          1           0         0  no lenses\n",
      "18    1          1           1         1  no lenses\n",
      "19    1          1           1         0       hard\n",
      "20    1          0           0         1  no lenses\n",
      "21    1          0           0         0       soft\n",
      "22    1          0           1         1  no lenses\n",
      "23    1          0           1         0  no lenses\n"
     ]
    }
   ],
   "source": [
    "from sklearn.preprocessing import LabelEncoder\n",
    "from sklearn import tree\n",
    "import pandas as pd\n",
    "import matplotlib.pyplot as plt\n",
    "import numpy as np\n",
    "#Python strip() 方法用于移除字符串头尾指定的字符（默认为空格或换行符）或字符序列。\n",
    "with open('2lenses.txt', 'r') as fr:  #加载文件\n",
    "    lenses = [inst.strip().split('\\t') for inst in fr.readlines()]  #处理文件，把文档中的字符串提取出来，保持行列关系\n",
    "\n",
    "lensesLabels = ['age', 'prescript', 'astigmatic', 'tearRate', 'category']  #特征标签\n",
    "lenses_list = [] #保存lenses数据的临时列表\n",
    "lenses_dict = {} #保存lenses数据的字典，用于生成pandas数据结构DataFrame\n",
    "for each_label in lensesLabels: #提取信息，生成字典\n",
    "    for each in lenses:          #0 1 2 3 4\n",
    "        lenses_list.append(each[lensesLabels.index(each_label)])\n",
    "    #lenses_list  长列表\n",
    "    lenses_dict[each_label] = lenses_list\n",
    "    #重置\n",
    "    lenses_list = []\n",
    "#print(lenses_dict)\n",
    "\n",
    "lenses_pd = pd.DataFrame(lenses_dict) #生成pandas.DataFrame\n",
    "#print(lenses_pd) #打印pandas.DataFrame\n",
    "le = LabelEncoder() #创建LabelEncoder()对象，用于序列化\n",
    "for col in lenses_pd.columns[:-1]: #序列化\n",
    "    lenses_pd[col] = le.fit_transform(lenses_pd[col])\n",
    "print(lenses_pd) #打印编码（序列号）信息"
   ]
  },
  {
   "cell_type": "code",
   "execution_count": null,
   "metadata": {},
   "outputs": [],
   "source": [
    "双层循环训练不同test_size情况下的模型\n",
    "使用clf.score()获得每次循环的模型准确率\n",
    "将得到的模型准确率添加至列表中\n",
    "计算不同test_size下的准确率的标准差\n",
    "计算不同test_size下的准确率的平均值\n",
    "柱状图的绘制\n",
    "柱形图上数值的显示\n",
    "图像标题、轴标签、图例的设置"
   ]
  },
  {
   "cell_type": "markdown",
   "metadata": {},
   "source": [
    "## 分割数据、创建树并进行预测\n",
    "根据0.1~0.9的分割比分割数据<p>\n",
    "每个分割比下进行了100次试验"
   ]
  },
  {
   "cell_type": "code",
   "execution_count": 45,
   "metadata": {},
   "outputs": [],
   "source": [
    "\n",
    "from sklearn.model_selection import train_test_split\n",
    "Score = []\n",
    "for i in range(1,10,1):   #0~9\n",
    "    Score.append([])\n",
    "    for j in range(100):  # 一组100个\n",
    "        pd_train,pd_test = train_test_split(lenses_pd, test_size=i/10)\n",
    "        clf = tree.DecisionTreeClassifier(max_depth = 4) #创建DecisionTreeClassifier()类\n",
    "        clf = clf.fit(pd_train.iloc[:,:-1].values.tolist(), \n",
    "                  pd_train.iloc[:,-1].values.tolist()) #使用训练数据（pd_train, tg_train），构建决策树\n",
    "        score = clf.score(pd_test.iloc[:,:-1].values.tolist(), \n",
    "                  pd_test.iloc[:,-1].values.tolist())\n",
    "        \n",
    "        Score[i-1].append(score)"
   ]
  },
  {
   "cell_type": "markdown",
   "metadata": {},
   "source": [
    "## 计算不同分割比的均值和方差"
   ]
  },
  {
   "cell_type": "code",
   "execution_count": 46,
   "metadata": {},
   "outputs": [
    {
     "data": {
      "text/plain": [
       "0.78"
      ]
     },
     "execution_count": 46,
     "metadata": {},
     "output_type": "execute_result"
    }
   ],
   "source": [
    "mean1 = np.mean(Score[0])\n",
    "mean1"
   ]
  },
  {
   "cell_type": "code",
   "execution_count": 19,
   "metadata": {},
   "outputs": [
    {
     "data": {
      "text/plain": [
       "array([0.78666667, 0.796     , 0.77625   , 0.753     , 0.73916667,\n",
       "       0.674     , 0.66941176, 0.5635    , 0.49909091])"
      ]
     },
     "execution_count": 19,
     "metadata": {},
     "output_type": "execute_result"
    }
   ],
   "source": [
    "import numpy as np\n",
    "std_all = list(np.zeros(9))\n",
    "for i in range(9):\n",
    "    std_all[i] = np.std(Score[i],ddof=1)  #0 总体  1 样本\n",
    "\n",
    "#每个size对应的准确率的平均值\n",
    "mean = np.mean(Score,axis=1)\n",
    "mean\n"
   ]
  },
  {
   "cell_type": "code",
   "execution_count": 47,
   "metadata": {},
   "outputs": [
    {
     "data": {
      "text/plain": [
       "[0.20932256722405848,\n",
       " 0.1657063241357609,\n",
       " 0.11690316937577445,\n",
       " 0.12508986668581415,\n",
       " 0.13538768791200834,\n",
       " 0.15852717179566053,\n",
       " 0.16229023908246454,\n",
       " 0.13959808832009934,\n",
       " 0.16034596122470693]"
      ]
     },
     "execution_count": 47,
     "metadata": {},
     "output_type": "execute_result"
    }
   ],
   "source": [
    "std_all"
   ]
  },
  {
   "cell_type": "code",
   "execution_count": 48,
   "metadata": {},
   "outputs": [
    {
     "data": {
      "text/plain": [
       "[1, 2, 3, 4, 5, 6, 7, 8, 9]"
      ]
     },
     "execution_count": 48,
     "metadata": {},
     "output_type": "execute_result"
    }
   ],
   "source": [
    "x=[x for x in range(1,10)]\n",
    "x"
   ]
  },
  {
   "cell_type": "code",
   "execution_count": 40,
   "metadata": {},
   "outputs": [
    {
     "data": {
      "text/plain": [
       "11.2"
      ]
     },
     "execution_count": 40,
     "metadata": {},
     "output_type": "execute_result"
    }
   ],
   "source": [
    "x  =11.21\n",
    "round(x,1)"
   ]
  },
  {
   "cell_type": "code",
   "execution_count": 49,
   "metadata": {},
   "outputs": [
    {
     "data": {
      "text/plain": [
       "[0.1, 0.2, 0.3, 0.4, 0.5, 0.6, 0.7, 0.8, 0.9]"
      ]
     },
     "execution_count": 49,
     "metadata": {},
     "output_type": "execute_result"
    }
   ],
   "source": [
    "\n",
    "res=list(map(lambda x:round(x,1),[i*0.1 for i in range(1,10)]))\n",
    "res"
   ]
  },
  {
   "cell_type": "code",
   "execution_count": 65,
   "metadata": {},
   "outputs": [],
   "source": [
    "\n",
    "std_show = []\n",
    "for i in range(9):\n",
    "    std_show.append(mean[i] + 0.5 *std_all[i])"
   ]
  },
  {
   "cell_type": "code",
   "execution_count": 66,
   "metadata": {},
   "outputs": [
    {
     "data": {
      "text/plain": [
       "[0.8913279502786958,\n",
       " 0.8788531620678803,\n",
       " 0.8347015846878872,\n",
       " 0.8155449333429071,\n",
       " 0.806860510622671,\n",
       " 0.7532635858978303,\n",
       " 0.7505568842471146,\n",
       " 0.6332990441600497,\n",
       " 0.5792638897032626]"
      ]
     },
     "execution_count": 66,
     "metadata": {},
     "output_type": "execute_result"
    }
   ],
   "source": [
    "std_show"
   ]
  },
  {
   "cell_type": "markdown",
   "metadata": {},
   "source": [
    "## 绘图"
   ]
  },
  {
   "cell_type": "code",
   "execution_count": 81,
   "metadata": {},
   "outputs": [
    {
     "data": {
      "image/png": "[encoded data removed]",
      "text/plain": [
       "<Figure size 432x288 with 1 Axes>"
      ]
     },
     "metadata": {
      "needs_background": "light"
     },
     "output_type": "display_data"
    }
   ],
   "source": [
    "plt.rcParams['font.sans-serif'] = 'SimHei'\n",
    "plt.rcParams['axes.unicode_minus'] = False\n",
    "error_params = dict(elinewidth=1,ecolor='black',capsize=2)\n",
    "x=[x for x in range(1,10)]\n",
    "x_label=list(map(lambda x:round(x,1),[i*0.1 for i in range(1,10)]))\n",
    "y=mean\n",
    "\n",
    "plt.bar(x,y,yerr=std_all,error_kw=error_params,tick_label=x_label,alpha=0.6 )\n",
    "for a,b in zip(x,y):   #柱子上的数字显示  准确率\n",
    "    plt.text(a,b,'%.2f'%b,ha='center',va='bottom',fontsize=12);\n",
    "    \n",
    "for a,b in zip(x,std_show):   #柱子上的数字显示 标准差\n",
    "    plt.text(a,b+0.1,'%.2f'%b,ha='center',va='bottom',fontsize=10);\n",
    "      \n",
    "plt.title('不同比例下模型的平均准确率和标准差')\n",
    "plt.xlabel('test size')\n",
    "plt.ylabel('accuracy rate')\n",
    "plt.legend(['ac'])\n",
    "plt.show()"
   ]
  },
  {
   "cell_type": "code",
   "execution_count": null,
   "metadata": {},
   "outputs": [],
   "source": []
  }
 ],
 "metadata": {
  "kernelspec": {
   "display_name": "Python 3",
   "language": "python",
   "name": "python3"
  },
  "language_info": {
   "codemirror_mode": {
    "name": "ipython",
    "version": 3
   },
   "file_extension": ".py",
   "mimetype": "text/x-python",
   "name": "python",
   "nbconvert_exporter": "python",
   "pygments_lexer": "ipython3",
   "version": "3.6.12"
  }
 },
 "nbformat": 4,
 "nbformat_minor": 4
}
