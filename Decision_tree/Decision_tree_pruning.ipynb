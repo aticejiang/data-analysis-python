{
 "cells": [
  {
   "cell_type": "markdown",
   "metadata": {},
   "source": [
    "# 使用ID3、C4.5和CART方法建立决策树\n",
    "实现：《机器学习》p93 习题4.3、4.4"
   ]
  },
  {
   "cell_type": "code",
   "execution_count": 1,
   "metadata": {},
   "outputs": [],
   "source": [
    "import pandas as pd\n",
    "import matplotlib.pyplot as plt\n",
    "import numpy as np\n",
    "import operator"
   ]
  },
  {
   "cell_type": "markdown",
   "metadata": {},
   "source": [
    "## 载入数据"
   ]
  },
  {
   "cell_type": "code",
   "execution_count": 2,
   "metadata": {},
   "outputs": [],
   "source": [
    "with open('lenses.txt', 'r') as fr:  #加载文件\n",
    "    lenses = [inst.strip().split('\\t') for inst in fr.readlines()]  #处理文件，把文档中的字符串提取出来，保持行列关系\n",
    "pd_data = pd.DataFrame(lenses, columns=['age', 'prescript', 'astigmatic', 'tearRate', 'category'])"
   ]
  },
  {
   "cell_type": "code",
   "execution_count": 3,
   "metadata": {},
   "outputs": [
    {
     "data": {
      "text/html": [
       "<div>\n",
       "<style scoped>\n",
       "    .dataframe tbody tr th:only-of-type {\n",
       "        vertical-align: middle;\n",
       "    }\n",
       "\n",
       "    .dataframe tbody tr th {\n",
       "        vertical-align: top;\n",
       "    }\n",
       "\n",
       "    .dataframe thead th {\n",
       "        text-align: right;\n",
       "    }\n",
       "</style>\n",
       "<table border=\"1\" class=\"dataframe\">\n",
       "  <thead>\n",
       "    <tr style=\"text-align: right;\">\n",
       "      <th></th>\n",
       "      <th>age</th>\n",
       "      <th>prescript</th>\n",
       "      <th>astigmatic</th>\n",
       "      <th>tearRate</th>\n",
       "      <th>category</th>\n",
       "    </tr>\n",
       "  </thead>\n",
       "  <tbody>\n",
       "    <tr>\n",
       "      <th>0</th>\n",
       "      <td>young</td>\n",
       "      <td>myope</td>\n",
       "      <td>no</td>\n",
       "      <td>reduced</td>\n",
       "      <td>no lenses</td>\n",
       "    </tr>\n",
       "    <tr>\n",
       "      <th>1</th>\n",
       "      <td>young</td>\n",
       "      <td>myope</td>\n",
       "      <td>no</td>\n",
       "      <td>normal</td>\n",
       "      <td>soft</td>\n",
       "    </tr>\n",
       "    <tr>\n",
       "      <th>2</th>\n",
       "      <td>young</td>\n",
       "      <td>myope</td>\n",
       "      <td>yes</td>\n",
       "      <td>reduced</td>\n",
       "      <td>no lenses</td>\n",
       "    </tr>\n",
       "    <tr>\n",
       "      <th>3</th>\n",
       "      <td>young</td>\n",
       "      <td>myope</td>\n",
       "      <td>yes</td>\n",
       "      <td>normal</td>\n",
       "      <td>hard</td>\n",
       "    </tr>\n",
       "    <tr>\n",
       "      <th>4</th>\n",
       "      <td>young</td>\n",
       "      <td>hyper</td>\n",
       "      <td>no</td>\n",
       "      <td>reduced</td>\n",
       "      <td>no lenses</td>\n",
       "    </tr>\n",
       "    <tr>\n",
       "      <th>5</th>\n",
       "      <td>young</td>\n",
       "      <td>hyper</td>\n",
       "      <td>no</td>\n",
       "      <td>normal</td>\n",
       "      <td>soft</td>\n",
       "    </tr>\n",
       "    <tr>\n",
       "      <th>6</th>\n",
       "      <td>young</td>\n",
       "      <td>hyper</td>\n",
       "      <td>yes</td>\n",
       "      <td>reduced</td>\n",
       "      <td>no lenses</td>\n",
       "    </tr>\n",
       "    <tr>\n",
       "      <th>7</th>\n",
       "      <td>young</td>\n",
       "      <td>hyper</td>\n",
       "      <td>yes</td>\n",
       "      <td>normal</td>\n",
       "      <td>hard</td>\n",
       "    </tr>\n",
       "    <tr>\n",
       "      <th>8</th>\n",
       "      <td>pre</td>\n",
       "      <td>myope</td>\n",
       "      <td>no</td>\n",
       "      <td>reduced</td>\n",
       "      <td>no lenses</td>\n",
       "    </tr>\n",
       "    <tr>\n",
       "      <th>9</th>\n",
       "      <td>pre</td>\n",
       "      <td>myope</td>\n",
       "      <td>no</td>\n",
       "      <td>normal</td>\n",
       "      <td>soft</td>\n",
       "    </tr>\n",
       "    <tr>\n",
       "      <th>10</th>\n",
       "      <td>pre</td>\n",
       "      <td>myope</td>\n",
       "      <td>yes</td>\n",
       "      <td>reduced</td>\n",
       "      <td>no lenses</td>\n",
       "    </tr>\n",
       "    <tr>\n",
       "      <th>11</th>\n",
       "      <td>pre</td>\n",
       "      <td>myope</td>\n",
       "      <td>yes</td>\n",
       "      <td>normal</td>\n",
       "      <td>hard</td>\n",
       "    </tr>\n",
       "    <tr>\n",
       "      <th>12</th>\n",
       "      <td>pre</td>\n",
       "      <td>hyper</td>\n",
       "      <td>no</td>\n",
       "      <td>reduced</td>\n",
       "      <td>no lenses</td>\n",
       "    </tr>\n",
       "    <tr>\n",
       "      <th>13</th>\n",
       "      <td>pre</td>\n",
       "      <td>hyper</td>\n",
       "      <td>no</td>\n",
       "      <td>normal</td>\n",
       "      <td>soft</td>\n",
       "    </tr>\n",
       "    <tr>\n",
       "      <th>14</th>\n",
       "      <td>pre</td>\n",
       "      <td>hyper</td>\n",
       "      <td>yes</td>\n",
       "      <td>reduced</td>\n",
       "      <td>no lenses</td>\n",
       "    </tr>\n",
       "    <tr>\n",
       "      <th>15</th>\n",
       "      <td>pre</td>\n",
       "      <td>hyper</td>\n",
       "      <td>yes</td>\n",
       "      <td>normal</td>\n",
       "      <td>no lenses</td>\n",
       "    </tr>\n",
       "    <tr>\n",
       "      <th>16</th>\n",
       "      <td>presbyopic</td>\n",
       "      <td>myope</td>\n",
       "      <td>no</td>\n",
       "      <td>reduced</td>\n",
       "      <td>no lenses</td>\n",
       "    </tr>\n",
       "    <tr>\n",
       "      <th>17</th>\n",
       "      <td>presbyopic</td>\n",
       "      <td>myope</td>\n",
       "      <td>no</td>\n",
       "      <td>normal</td>\n",
       "      <td>no lenses</td>\n",
       "    </tr>\n",
       "    <tr>\n",
       "      <th>18</th>\n",
       "      <td>presbyopic</td>\n",
       "      <td>myope</td>\n",
       "      <td>yes</td>\n",
       "      <td>reduced</td>\n",
       "      <td>no lenses</td>\n",
       "    </tr>\n",
       "    <tr>\n",
       "      <th>19</th>\n",
       "      <td>presbyopic</td>\n",
       "      <td>myope</td>\n",
       "      <td>yes</td>\n",
       "      <td>normal</td>\n",
       "      <td>hard</td>\n",
       "    </tr>\n",
       "    <tr>\n",
       "      <th>20</th>\n",
       "      <td>presbyopic</td>\n",
       "      <td>hyper</td>\n",
       "      <td>no</td>\n",
       "      <td>reduced</td>\n",
       "      <td>no lenses</td>\n",
       "    </tr>\n",
       "    <tr>\n",
       "      <th>21</th>\n",
       "      <td>presbyopic</td>\n",
       "      <td>hyper</td>\n",
       "      <td>no</td>\n",
       "      <td>normal</td>\n",
       "      <td>soft</td>\n",
       "    </tr>\n",
       "    <tr>\n",
       "      <th>22</th>\n",
       "      <td>presbyopic</td>\n",
       "      <td>hyper</td>\n",
       "      <td>yes</td>\n",
       "      <td>reduced</td>\n",
       "      <td>no lenses</td>\n",
       "    </tr>\n",
       "    <tr>\n",
       "      <th>23</th>\n",
       "      <td>presbyopic</td>\n",
       "      <td>hyper</td>\n",
       "      <td>yes</td>\n",
       "      <td>normal</td>\n",
       "      <td>no lenses</td>\n",
       "    </tr>\n",
       "  </tbody>\n",
       "</table>\n",
       "</div>"
      ],
      "text/plain": [
       "           age prescript astigmatic tearRate   category\n",
       "0        young     myope         no  reduced  no lenses\n",
       "1        young     myope         no   normal       soft\n",
       "2        young     myope        yes  reduced  no lenses\n",
       "3        young     myope        yes   normal       hard\n",
       "4        young     hyper         no  reduced  no lenses\n",
       "5        young     hyper         no   normal       soft\n",
       "6        young     hyper        yes  reduced  no lenses\n",
       "7        young     hyper        yes   normal       hard\n",
       "8          pre     myope         no  reduced  no lenses\n",
       "9          pre     myope         no   normal       soft\n",
       "10         pre     myope        yes  reduced  no lenses\n",
       "11         pre     myope        yes   normal       hard\n",
       "12         pre     hyper         no  reduced  no lenses\n",
       "13         pre     hyper         no   normal       soft\n",
       "14         pre     hyper        yes  reduced  no lenses\n",
       "15         pre     hyper        yes   normal  no lenses\n",
       "16  presbyopic     myope         no  reduced  no lenses\n",
       "17  presbyopic     myope         no   normal  no lenses\n",
       "18  presbyopic     myope        yes  reduced  no lenses\n",
       "19  presbyopic     myope        yes   normal       hard\n",
       "20  presbyopic     hyper         no  reduced  no lenses\n",
       "21  presbyopic     hyper         no   normal       soft\n",
       "22  presbyopic     hyper        yes  reduced  no lenses\n",
       "23  presbyopic     hyper        yes   normal  no lenses"
      ]
     },
     "execution_count": 3,
     "metadata": {},
     "output_type": "execute_result"
    }
   ],
   "source": [
    "pd_data"
   ]
  },
  {
   "cell_type": "code",
   "execution_count": 4,
   "metadata": {},
   "outputs": [],
   "source": [
    "from sklearn.model_selection import train_test_split\n",
    "pd_train,pd_test = train_test_split(pd_data, test_size=0.2)"
   ]
  },
  {
   "cell_type": "markdown",
   "metadata": {},
   "source": [
    "## 特征选择算法"
   ]
  },
  {
   "cell_type": "code",
   "execution_count": 5,
   "metadata": {},
   "outputs": [],
   "source": [
    "#计算信息熵\n",
    "def entropy(x, column='category'):\n",
    "    prob = pd.value_counts(x[column]) / len(x[column])\n",
    "    entropy = sum(np.log2(prob)*prob*(-1))\n",
    "    return entropy"
   ]
  },
  {
   "cell_type": "code",
   "execution_count": 6,
   "metadata": {},
   "outputs": [
    {
     "name": "stdout",
     "output_type": "stream",
     "text": [
      "age\n",
      "pre           1.378783\n",
      "presbyopic    1.251629\n",
      "young         1.459148\n",
      "dtype: float64 \n",
      " pre           0.368421\n",
      "young         0.315789\n",
      "presbyopic    0.315789\n",
      "Name: age, dtype: float64\n"
     ]
    }
   ],
   "source": [
    "g_entropy = pd_train.groupby('age').apply(entropy) #计算每一个分组的信息熵\n",
    "g_prop = pd.value_counts(pd_train['age'], normalize=True) #计算每一个分组的特征概率p\n",
    "print(g_entropy,'\\n', g_prop)"
   ]
  },
  {
   "cell_type": "code",
   "execution_count": 7,
   "metadata": {},
   "outputs": [
    {
     "name": "stdout",
     "output_type": "stream",
     "text": [
      "条件熵：1.3640077347838755\n",
      "信息增益：0.019800000680207486\n"
     ]
    }
   ],
   "source": [
    "entropy_base = entropy(pd_train)\n",
    "c_entropy = 0\n",
    "for each in g_entropy.keys():\n",
    "    c_entropy += g_entropy[each] * g_prop[each] #条件熵\n",
    "print('条件熵：{}'.format(c_entropy))\n",
    "gain = entropy_base - c_entropy    #信息增益\n",
    "print('信息增益：{}'.format(gain))"
   ]
  },
  {
   "cell_type": "code",
   "execution_count": 8,
   "metadata": {},
   "outputs": [],
   "source": [
    "#计算条件熵的信息增益\n",
    "def c_entropy_gain(x, column):\n",
    "    g_entropy = x.groupby(column).apply(entropy) #计算每一个分组的信息熵\n",
    "    g_prop = pd.value_counts(x[column], normalize= True) #计算每一个分组的特征概率p\n",
    "    c_entropy = 0\n",
    "    for each in g_entropy.keys():\n",
    "        c_entropy += g_entropy[each] * g_prop[each] #条件熵\n",
    "    entropy_base = entropy(x)          #信息熵\n",
    "    gain = entropy_base - c_entropy    #信息增益\n",
    "    return gain\n",
    "#ID3返回值\n",
    "def ID3(x):\n",
    "    ID3_select = {}\n",
    "    for i in x.columns[:-1]:\n",
    "        ID3_select[i] = c_entropy_gain(x, i)\n",
    "    #对字典的值进行排序,降序\n",
    "    result = sorted(ID3_select.items(), key=operator.itemgetter(1), reverse=True)\n",
    "    return result\n",
    "#C4.5返回值\n",
    "def C4_5(x):\n",
    "    C4_5_select = {}\n",
    "    for i in x.columns[:-1]:\n",
    "        C4_5_select[i] = c_entropy_gain(x, i)/ entropy(x, i)\n",
    "    #对字典的值进行排序,降序\n",
    "    result = sorted(C4_5_select.items(), key=operator.itemgetter(1), reverse=True)\n",
    "    return result"
   ]
  },
  {
   "cell_type": "code",
   "execution_count": 9,
   "metadata": {},
   "outputs": [
    {
     "name": "stdout",
     "output_type": "stream",
     "text": [
      "[('tearRate', 0.7435552598651077), ('astigmatic', 0.40196447061915697), ('prescript', 0.1464511562889812), ('age', 0.019800000680207486)]\n"
     ]
    }
   ],
   "source": [
    "a = ID3(pd_train)\n",
    "print(a)"
   ]
  },
  {
   "cell_type": "code",
   "execution_count": 10,
   "metadata": {},
   "outputs": [
    {
     "name": "stdout",
     "output_type": "stream",
     "text": [
      "[('tearRate', 0.745044690722188), ('astigmatic', 0.42336470311763286), ('prescript', 0.15424808617541444), ('age', 0.012523474332019509)]\n"
     ]
    }
   ],
   "source": [
    "b = C4_5(pd_train)\n",
    "print(b)"
   ]
  },
  {
   "cell_type": "code",
   "execution_count": 11,
   "metadata": {},
   "outputs": [],
   "source": [
    "#gini index的计算\n",
    "def gini(x, column='category'):\n",
    "    p = pd.value_counts(x[column], normalize= True) #计算类别的特征概率p\n",
    "    gini_index = 1 - (sum(p**2))\n",
    "    return gini_index\n",
    "#条件gini系数计算\n",
    "def c_gini(x, column):\n",
    "    g_gini = x.groupby(column).apply(gini) #计算每一个分组的gini\n",
    "    g_prop = pd.value_counts(x[column], normalize= True) #计算每一个分组的特征概率p\n",
    "    c_gini = 0\n",
    "    for each in g_gini.keys():\n",
    "        c_gini += g_gini[each] * g_prop[each] #条件gini\n",
    "    return c_gini\n",
    "#CART算法\n",
    "def CART(x):\n",
    "    CART_select = {}\n",
    "    for i in x.columns[:-1]:\n",
    "        CART_select[i] = c_gini(x, i)\n",
    "    #对字典的值进行排序,升序\n",
    "    result = sorted(CART_select.items(), key=operator.itemgetter(1), reverse=False)\n",
    "    return result"
   ]
  },
  {
   "cell_type": "code",
   "execution_count": 12,
   "metadata": {},
   "outputs": [
    {
     "data": {
      "text/plain": [
       "0.5614035087719298"
      ]
     },
     "execution_count": 12,
     "metadata": {},
     "output_type": "execute_result"
    }
   ],
   "source": [
    "c_gini(pd_train, 'age')"
   ]
  },
  {
   "cell_type": "code",
   "execution_count": 13,
   "metadata": {},
   "outputs": [
    {
     "data": {
      "text/plain": [
       "[('tearRate', 0.26900584795321636),\n",
       " ('astigmatic', 0.48746867167919794),\n",
       " ('prescript', 0.5401002506265664),\n",
       " ('age', 0.5614035087719298)]"
      ]
     },
     "execution_count": 13,
     "metadata": {},
     "output_type": "execute_result"
    }
   ],
   "source": [
    "CART(pd_train)"
   ]
  },
  {
   "cell_type": "markdown",
   "metadata": {},
   "source": [
    "## 建立决策树"
   ]
  },
  {
   "cell_type": "code",
   "execution_count": 14,
   "metadata": {},
   "outputs": [
    {
     "ename": "AttributeError",
     "evalue": "'DataFrame' object has no attribute 'value_counts'",
     "output_type": "error",
     "traceback": [
      "\u001b[1;31m---------------------------------------------------------------------------\u001b[0m",
      "\u001b[1;31mAttributeError\u001b[0m                            Traceback (most recent call last)",
      "\u001b[1;32m<ipython-input-14-c8bb2d14f458>\u001b[0m in \u001b[0;36m<module>\u001b[1;34m\u001b[0m\n\u001b[1;32m----> 1\u001b[1;33m \u001b[0mpd_train\u001b[0m\u001b[1;33m.\u001b[0m\u001b[0mvalue_counts\u001b[0m\u001b[1;33m(\u001b[0m\u001b[1;34m'category'\u001b[0m\u001b[1;33m,\u001b[0m \u001b[0msort\u001b[0m\u001b[1;33m=\u001b[0m\u001b[1;32mTrue\u001b[0m\u001b[1;33m)\u001b[0m\u001b[1;33m.\u001b[0m\u001b[0mindex\u001b[0m\u001b[1;33m[\u001b[0m\u001b[1;36m0\u001b[0m\u001b[1;33m]\u001b[0m\u001b[1;33m\u001b[0m\u001b[1;33m\u001b[0m\u001b[0m\n\u001b[0m",
      "\u001b[1;32mD:\\Anaconda\\lib\\site-packages\\pandas\\core\\generic.py\u001b[0m in \u001b[0;36m__getattr__\u001b[1;34m(self, name)\u001b[0m\n\u001b[0;32m   5065\u001b[0m             \u001b[1;32mif\u001b[0m \u001b[0mself\u001b[0m\u001b[1;33m.\u001b[0m\u001b[0m_info_axis\u001b[0m\u001b[1;33m.\u001b[0m\u001b[0m_can_hold_identifiers_and_holds_name\u001b[0m\u001b[1;33m(\u001b[0m\u001b[0mname\u001b[0m\u001b[1;33m)\u001b[0m\u001b[1;33m:\u001b[0m\u001b[1;33m\u001b[0m\u001b[1;33m\u001b[0m\u001b[0m\n\u001b[0;32m   5066\u001b[0m                 \u001b[1;32mreturn\u001b[0m \u001b[0mself\u001b[0m\u001b[1;33m[\u001b[0m\u001b[0mname\u001b[0m\u001b[1;33m]\u001b[0m\u001b[1;33m\u001b[0m\u001b[1;33m\u001b[0m\u001b[0m\n\u001b[1;32m-> 5067\u001b[1;33m             \u001b[1;32mreturn\u001b[0m \u001b[0mobject\u001b[0m\u001b[1;33m.\u001b[0m\u001b[0m__getattribute__\u001b[0m\u001b[1;33m(\u001b[0m\u001b[0mself\u001b[0m\u001b[1;33m,\u001b[0m \u001b[0mname\u001b[0m\u001b[1;33m)\u001b[0m\u001b[1;33m\u001b[0m\u001b[1;33m\u001b[0m\u001b[0m\n\u001b[0m\u001b[0;32m   5068\u001b[0m \u001b[1;33m\u001b[0m\u001b[0m\n\u001b[0;32m   5069\u001b[0m     \u001b[1;32mdef\u001b[0m \u001b[0m__setattr__\u001b[0m\u001b[1;33m(\u001b[0m\u001b[0mself\u001b[0m\u001b[1;33m,\u001b[0m \u001b[0mname\u001b[0m\u001b[1;33m,\u001b[0m \u001b[0mvalue\u001b[0m\u001b[1;33m)\u001b[0m\u001b[1;33m:\u001b[0m\u001b[1;33m\u001b[0m\u001b[1;33m\u001b[0m\u001b[0m\n",
      "\u001b[1;31mAttributeError\u001b[0m: 'DataFrame' object has no attribute 'value_counts'"
     ]
    }
   ],
   "source": [
    "pd_train.value_counts('category', sort=True).index[0]"
   ]
  },
  {
   "cell_type": "code",
   "execution_count": null,
   "metadata": {},
   "outputs": [],
   "source": [
    "list(pd_train.groupby('age'))"
   ]
  },
  {
   "cell_type": "code",
   "execution_count": null,
   "metadata": {},
   "outputs": [],
   "source": [
    "def tree(x, method, max_depth=-1, depth=0):\n",
    "    '''\n",
    "    Parameters:\n",
    "        x: DataFrame数据\n",
    "        method: ID3、C4_5、CART三种方法之一\n",
    "        max_depth: 树最大深度,默认'-1'代表未设置\n",
    "    Return:\n",
    "        决策树字典\n",
    "    '''\n",
    "    if max_depth == 0:\n",
    "        return x.value_counts('category', sort=True).index[0]\n",
    "    elif isinstance(x, pd.core.frame.DataFrame):\n",
    "        #使用gini系数判断“纯净”度\n",
    "        if gini(x) == 0:\n",
    "            return x.value_counts('category').index[0]  #纯净：返回类别名称\n",
    "        else:\n",
    "            column = method(x)[0][0]\n",
    "            sub_dict = dict(list(x.groupby(column)))\n",
    "            depth += 1\n",
    "            for i in sub_dict.keys():\n",
    "                _ = sub_dict[i].pop(column)\n",
    "                if isinstance(sub_dict[i], pd.core.frame.DataFrame): #如果是DataFrame格式\n",
    "                    if (depth < max_depth) or max_depth==-1:         #当深度不到最大深度时，递归调用\n",
    "                        sub_dict[i] = tree(sub_dict[i], method, max_depth, depth)\n",
    "                    else:                                            #否则赋值为出现频率最高的类别\n",
    "                        sub_dict[i] = sub_dict[i].value_counts('category', sort=True).index[0]\n",
    "            return {column: sub_dict}\n",
    "    elif isinstance(x, str):\n",
    "        pass"
   ]
  },
  {
   "cell_type": "code",
   "execution_count": null,
   "metadata": {},
   "outputs": [],
   "source": [
    "#测试树准确率:单个样本\n",
    "def test_one(tr, test):\n",
    "    while isinstance(tr, dict):\n",
    "        k = list(tr.keys())\n",
    "        if k[0] in test.index:\n",
    "            a = test[k[0]]\n",
    "            tr = tr[k[0]][a]\n",
    "        else:\n",
    "            print('error')\n",
    "    else:\n",
    "        return tr\n",
    "#样本集测试\n",
    "def test_set(tr, test_set):\n",
    "    '''\n",
    "    Parameters:\n",
    "        tr: 测试的决策树\n",
    "        test_set: 测试集\n",
    "    Return:\n",
    "        准确率\n",
    "    '''\n",
    "    count = 0\n",
    "    for i in range(len(test_set)):\n",
    "        result = test_one(tr, test_set.iloc[i,:])\n",
    "        if result == test_set.iloc[i,-1]:\n",
    "            count += 1\n",
    "    return count/len(test_set)"
   ]
  },
  {
   "cell_type": "code",
   "execution_count": null,
   "metadata": {},
   "outputs": [],
   "source": [
    "ID3_tree = tree(pd_train, ID3)\n",
    "print(ID3_tree)\n",
    "print(test_set(ID3_tree, pd_test))"
   ]
  },
  {
   "cell_type": "code",
   "execution_count": null,
   "metadata": {},
   "outputs": [],
   "source": [
    "#根据层预剪枝建立决策树，如果想实现按节点剪枝，建议使用自己创建的节点类建树。\n",
    "def pre_pruning(x, test, method):\n",
    "    best_tree = tree(x, method, max_depth=0)\n",
    "    depth_now = 1\n",
    "    while tree(x, method, max_depth=depth_now-1) !=  tree(x, method):\n",
    "        if test_set(best_tree, test) < test_set(tree(x, method, max_depth=depth_now), test):\n",
    "            best_tree = tree(x, method, max_depth=depth_now)\n",
    "            depth_now += 1\n",
    "        else:\n",
    "            return best_tree\n",
    "    else:\n",
    "        return best_tree\n",
    "pre_pruning(pd_train, pd_test, ID3)"
   ]
  },
  {
   "cell_type": "code",
   "execution_count": null,
   "metadata": {},
   "outputs": [],
   "source": [
    "C4_5_tree = tree(pd_train, C4_5)\n",
    "print(C4_5_tree)"
   ]
  },
  {
   "cell_type": "code",
   "execution_count": null,
   "metadata": {},
   "outputs": [],
   "source": [
    "gini_tree = tree(pd_train, CART)\n",
    "print(gini_tree)"
   ]
  },
  {
   "cell_type": "markdown",
   "metadata": {},
   "source": [
    "## 画图"
   ]
  },
  {
   "cell_type": "code",
   "execution_count": null,
   "metadata": {},
   "outputs": [],
   "source": [
    "from graphviz import Digraph\n",
    "\n",
    "\n",
    "def plot_model(tree, name):\n",
    "    g = Digraph(\"G\", filename=name, format='png', strict=False)\n",
    "    first_label = list(tree.keys())[0]\n",
    "    g.node(\"0\", first_label)\n",
    "    _sub_plot(g, tree, \"0\")\n",
    "    g.view()\n",
    "\n",
    "\n",
    "root = \"0\"\n",
    "\n",
    "\n",
    "def _sub_plot(g, tree, inc):\n",
    "    global root\n",
    "\n",
    "    first_label = list(tree.keys())[0]\n",
    "    ts = tree[first_label]\n",
    "    for i in ts.keys():\n",
    "        if isinstance(tree[first_label][i], dict):\n",
    "            root = str(int(root) + 1)\n",
    "            g.node(root, list(tree[first_label][i].keys())[0])\n",
    "            g.edge(inc, root, str(i))\n",
    "            _sub_plot(g, tree[first_label][i], root)\n",
    "        else:\n",
    "            root = str(int(root) + 1)\n",
    "            g.node(root, tree[first_label][i])\n",
    "            g.edge(inc, root, str(i))\n",
    "\n",
    "#图像和gv文件保存在tree目录下\n",
    "plot_model(ID3_tree, \"tree/ID3_tree.gv\")\n",
    "plot_model(C4_5_tree, \"tree/C4_5_tree.gv\")\n",
    "plot_model(gini_tree, \"tree/gini_tree.gv\")"
   ]
  },
  {
   "cell_type": "markdown",
   "metadata": {},
   "source": [
    "## 使用sklearn建立决策树"
   ]
  },
  {
   "cell_type": "code",
   "execution_count": null,
   "metadata": {},
   "outputs": [],
   "source": [
    "from sklearn import tree\n",
    "from sklearn.preprocessing import LabelEncoder\n",
    "le = LabelEncoder() #创建LabelEncoder()对象，用于序列化\n",
    "for col in pd_train.columns[:-1]: #序列化\n",
    "    pd_train[col] = le.fit_transform(pd_train[col])\n",
    "    \n",
    "clf = tree.DecisionTreeClassifier() #创建DecisionTreeClassifier()类\n",
    "clf = clf.fit(pd_train.iloc[:,:-1].values.tolist(), pd_train.iloc[:,-1].values.tolist()) #使用训练数据（pd_train, tg_train），构建决策树\n",
    "\n",
    "plt.figure(figsize=(30,30), dpi=30) #生成图片的像素大小=figsize * dpi → (900* 900)\n",
    "tree.plot_tree(clf, feature_names= pd_train.iloc[:,:-1].keys(), class_names= clf.classes_, filled= True)\n",
    "plt.savefig('tree/sklearn_tree.png')\n",
    "plt.show()"
   ]
  },
  {
   "cell_type": "code",
   "execution_count": null,
   "metadata": {},
   "outputs": [],
   "source": []
  }
 ],
 "metadata": {
  "kernelspec": {
   "display_name": "Python 3",
   "language": "python",
   "name": "python3"
  },
  "language_info": {
   "codemirror_mode": {
    "name": "ipython",
    "version": 3
   },
   "file_extension": ".py",
   "mimetype": "text/x-python",
   "name": "python",
   "nbconvert_exporter": "python",
   "pygments_lexer": "ipython3",
   "version": "3.7.3"
  }
 },
 "nbformat": 4,
 "nbformat_minor": 5
}
