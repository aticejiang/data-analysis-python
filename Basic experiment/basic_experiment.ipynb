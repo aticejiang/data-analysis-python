{
 "cells": [
  {
   "cell_type": "code",
   "execution_count": 1,
   "id": "unusual-baseball",
   "metadata": {},
   "outputs": [
    {
     "name": "stdout",
     "output_type": "stream",
     "text": [
      "[ 0.54807471 -0.71556693  0.09993832 -0.50827958  0.83365126 -0.69474219\n",
      "  0.49109422 -0.76958652 -1.40879168 -0.02649159]\n"
     ]
    }
   ],
   "source": [
    "import numpy as np\n",
    "import matplotlib.pyplot as plt\n",
    "\n",
    "total = 100\n",
    "data = np.random.normal(loc=0.0, scale=1, size=total)  #创建total个生成正态分布的概率密度随机数\n",
    "print(data[:10])"
   ]
  },
  {
   "cell_type": "code",
   "execution_count": 4,
   "id": "economic-international",
   "metadata": {},
   "outputs": [
    {
     "name": "stdout",
     "output_type": "stream",
     "text": [
      "counter: [1, 0, 3, 15, 28, 19, 12, 15, 5, 1, 0]\n",
      "[-2.75, -2.25, -1.75, -1.25, -0.75, -0.25, 0.25, 0.75, 1.25, 1.75, 2.25]\n"
     ]
    }
   ],
   "source": [
    "counter = []  #计数落在区间内的随机数个数\n",
    "for i in range(11):\n",
    "    counter.append(0)\n",
    "tick_label = []  #区间对应的下标\n",
    "\n",
    "for pointer in range(len(counter)):   #循环筛选\n",
    "    tick_label.append(-0.25+0.5*(pointer-5))\n",
    "    for i in data:\n",
    "        if i<=0.25+0.5*(pointer-5) and i>-0.25+0.5*(pointer-5):\n",
    "            counter[pointer] += 1\n",
    "print('counter: {}'.format(counter))\n",
    "print(tick_label)"
   ]
  },
  {
   "cell_type": "code",
   "execution_count": 7,
   "id": "tired-minnesota",
   "metadata": {},
   "outputs": [
    {
     "data": {
      "image/png": "[encoded data removed]",
      "text/plain": [
       "<Figure size 432x288 with 1 Axes>"
      ]
     },
     "metadata": {
      "needs_background": "light"
     },
     "output_type": "display_data"
    }
   ],
   "source": [
    "plt.figure()\n",
    "figure_bar = plt.bar(range(len(counter)), counter, width=0.94, tick_label= tick_label, align='edge') #画柱状图\n",
    "plt.savefig('bar.png')  #保存图像\n",
    "plt.show()\n"
   ]
  },
  {
   "cell_type": "code",
   "execution_count": 8,
   "id": "virtual-termination",
   "metadata": {},
   "outputs": [
    {
     "data": {
      "image/png": "[encoded data removed]",
      "text/plain": [
       "<Figure size 432x288 with 1 Axes>"
      ]
     },
     "metadata": {
      "needs_background": "light"
     },
     "output_type": "display_data"
    }
   ],
   "source": [
    "from scipy.interpolate import interp1d\n",
    "\n",
    "f2 = interp1d(tick_label, counter, kind='cubic') #一维插值算法\n",
    "x = np.linspace(-2.75, 2.25, num=101, endpoint=True) #新建-2.75~2.25间的101个值\n",
    "\n",
    "plt.figure()\n",
    "figure_plot = plt.plot(tick_label, counter) #画第一组折线图\n",
    "figure_plot_in = plt.plot(x, f2(x)) #使用插值计算出对应的y，并画第二组折线图\n",
    "plt.legend((figure_plot[0],figure_plot_in[0]),('ori','int'))\n",
    "plt.savefig('plot.png')  #保存图像\n",
    "plt.show()"
   ]
  },
  {
   "cell_type": "code",
   "execution_count": 9,
   "id": "exact-chamber",
   "metadata": {},
   "outputs": [
    {
     "name": "stdout",
     "output_type": "stream",
     "text": [
      "already have y\n",
      "{'bar_chart': {'x': range(0, 11), 'y': [1, 0, 3, 15, 28, 19, 12, 15, 5, 1, 0], 'figure': 'bar.png'}}\n"
     ]
    }
   ],
   "source": [
    "data_dict = {}\n",
    "if data_dict.get('bar_chart') == None: #如果data_dict字典中没有'bar_chart'的Key\n",
    "    data_dict['bar_chart'] = {'x': range(len(counter)),\n",
    "                             'y': counter,\n",
    "                             'figure': 'bar.png'}\n",
    "else:\n",
    "    print('already occupied')\n",
    "    \n",
    "if not('y' in data_dict['bar_chart']):  #如果data_dict字典中bar_chart对应的Key中没有'y'\n",
    "    data_dict['bar_chart']['y'] = counter\n",
    "else:\n",
    "    print('already have y')\n",
    "    \n",
    "print(data_dict)"
   ]
  },
  {
   "cell_type": "code",
   "execution_count": 10,
   "id": "substantial-vietnamese",
   "metadata": {},
   "outputs": [
    {
     "name": "stdout",
     "output_type": "stream",
     "text": [
      "output error\n",
      "bar.png\n"
     ]
    }
   ],
   "source": [
    "try:\n",
    "    fig = data_dict.get('plot_chart').get('figure')\n",
    "    print(fig)\n",
    "except:\n",
    "    print('output error')\n",
    "    \n",
    "try:\n",
    "    fig = data_dict.get('bar_chart').get('figure')\n",
    "    print(fig)\n",
    "except:\n",
    "    print('output error2')"
   ]
  },
  {
   "cell_type": "code",
   "execution_count": null,
   "id": "vulnerable-pacific",
   "metadata": {},
   "outputs": [],
   "source": []
  }
 ],
 "metadata": {
  "kernelspec": {
   "display_name": "Python 3",
   "language": "python",
   "name": "python3"
  },
  "language_info": {
   "codemirror_mode": {
    "name": "ipython",
    "version": 3
   },
   "file_extension": ".py",
   "mimetype": "text/x-python",
   "name": "python",
   "nbconvert_exporter": "python",
   "pygments_lexer": "ipython3",
   "version": "3.6.12"
  }
 },
 "nbformat": 4,
 "nbformat_minor": 5
}
